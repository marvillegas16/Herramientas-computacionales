{
  "nbformat": 4,
  "nbformat_minor": 0,
  "metadata": {
    "colab": {
      "provenance": [],
      "authorship_tag": "ABX9TyMM1i/FThtRxX7pKD4l8o+2",
      "include_colab_link": true
    },
    "kernelspec": {
      "name": "python3",
      "display_name": "Python 3"
    },
    "language_info": {
      "name": "python"
    }
  },
  "cells": [
    {
      "cell_type": "markdown",
      "metadata": {
        "id": "view-in-github",
        "colab_type": "text"
      },
      "source": [
        "<a href=\"https://colab.research.google.com/github/marvillegas16/Herramientas-computacionales/blob/main/Ejercicios_20_de_marzo_Villegas_Gayt%C3%A1n.ipynb\" target=\"_parent\"><img src=\"https://colab.research.google.com/assets/colab-badge.svg\" alt=\"Open In Colab\"/></a>"
      ]
    },
    {
      "cell_type": "code",
      "execution_count": 1,
      "metadata": {
        "colab": {
          "base_uri": "https://localhost:8080/"
        },
        "id": "kYc68N4M0Xwy",
        "outputId": "9e2c3a01-0f37-4ba4-88b2-468b24dd1e02"
      },
      "outputs": [
        {
          "output_type": "stream",
          "name": "stdout",
          "text": [
            "3\n",
            "3\n",
            "3\n",
            "3\n",
            "3\n",
            "3\n",
            "3\n",
            "3\n",
            "3\n",
            "3\n"
          ]
        }
      ],
      "source": [
        "for i in range(1,11):\n",
        "  print(1*3)"
      ]
    },
    {
      "cell_type": "code",
      "source": [
        "i=1\n",
        "while 1<=10:\n",
        "  print(1*3)\n",
        "  i+=1"
      ],
      "metadata": {
        "collapsed": true,
        "id": "jpAR6c8G0ju3"
      },
      "execution_count": null,
      "outputs": []
    },
    {
      "cell_type": "code",
      "source": [
        "n=int(input(\"ingrese numero:\"))\n",
        "for i in range(1,11):\n",
        "  print(n*i)"
      ],
      "metadata": {
        "id": "tLZn2C6i1M6r"
      },
      "execution_count": null,
      "outputs": []
    },
    {
      "cell_type": "code",
      "source": [
        "n=int(input(\"Dame un numero\"))\n",
        "suma=n\n",
        "while n!=0:\n",
        "    n=int(input(\"Dame un numero\")) # This line and subsequent lines within the 'while' loop should be indented\n",
        "    suma=n"
      ],
      "metadata": {
        "id": "ljzoE1fD2RCd"
      },
      "execution_count": null,
      "outputs": []
    }
  ]
}