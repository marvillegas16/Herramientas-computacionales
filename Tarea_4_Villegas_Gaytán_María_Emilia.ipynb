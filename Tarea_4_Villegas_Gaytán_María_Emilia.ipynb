{
  "nbformat": 4,
  "nbformat_minor": 0,
  "metadata": {
    "colab": {
      "provenance": [],
      "authorship_tag": "ABX9TyOiGsi24dsowIO8OUDaf8ir",
      "include_colab_link": true
    },
    "kernelspec": {
      "name": "python3",
      "display_name": "Python 3"
    },
    "language_info": {
      "name": "python"
    }
  },
  "cells": [
    {
      "cell_type": "markdown",
      "metadata": {
        "id": "view-in-github",
        "colab_type": "text"
      },
      "source": [
        "<a href=\"https://colab.research.google.com/github/marvillegas16/Herramientas-computacionales/blob/main/Tarea_4_Villegas_Gayt%C3%A1n_Mar%C3%ADa_Emilia.ipynb\" target=\"_parent\"><img src=\"https://colab.research.google.com/assets/colab-badge.svg\" alt=\"Open In Colab\"/></a>"
      ]
    },
    {
      "cell_type": "markdown",
      "source": [
        "**Ejercicio 1**\n",
        "\n",
        "Diseña un programa que convierta dólares americanos a pesos mexicanos, euros, libras esterlinas, yuanes y rublos utilizando una tasa de cambio fija. Muestre la tasa de cambio e imprima los cinco resultados."
      ],
      "metadata": {
        "id": "0sE36GCoupJc"
      }
    },
    {
      "cell_type": "code",
      "source": [
        "def conversor_divisas(dolares):\n",
        "    tasas = {\n",
        "        'pesos_mexicanos': 20.0,\n",
        "        'euros': 0.85,\n",
        "        'libras_esterlinas': 0.73,\n",
        "        'yuanes': 6.45,\n",
        "        'rublos': 75.0\n",
        "    }\n",
        "\n",
        "    print(\"Tasas de cambio:\")\n",
        "    for moneda, tasa in tasas.items():\n",
        "        print(f\"1 USD = {tasa} {moneda.replace('_', ' ')}\")\n",
        "\n",
        "    print(\"\\nResultados:\")\n",
        "    for moneda, tasa in tasas.items():\n",
        "        print(f\"{dolares} USD = {dolares * tasa:.2f} {moneda.replace('_', ' ')}\")\n",
        "\n",
        "\n",
        "dolares = float(input(\"Ingrese la cantidad en dólares: \"))\n",
        "conversor_divisas(dolares)"
      ],
      "metadata": {
        "colab": {
          "base_uri": "https://localhost:8080/"
        },
        "id": "wrSARdnWuRry",
        "outputId": "f4c62da5-9217-4740-8a93-fb6b41d0e856"
      },
      "execution_count": null,
      "outputs": [
        {
          "output_type": "stream",
          "name": "stdout",
          "text": [
            "Ingrese la cantidad en dólares: 10\n",
            "Tasas de cambio:\n",
            "1 USD = 20.0 pesos mexicanos\n",
            "1 USD = 0.85 euros\n",
            "1 USD = 0.73 libras esterlinas\n",
            "1 USD = 6.45 yuanes\n",
            "1 USD = 75.0 rublos\n",
            "\n",
            "Resultados:\n",
            "10.0 USD = 200.00 pesos mexicanos\n",
            "10.0 USD = 8.50 euros\n",
            "10.0 USD = 7.30 libras esterlinas\n",
            "10.0 USD = 64.50 yuanes\n",
            "10.0 USD = 750.00 rublos\n"
          ]
        }
      ]
    },
    {
      "cell_type": "markdown",
      "source": [
        "**Ejercicio 2**\n",
        "\n",
        "Desarrolla un programa que calcule el precio final de un producto después de aplicar un descuento. El usuario debe ingresar el precio original y el porcentaje de descuento. Imprima el precio final."
      ],
      "metadata": {
        "id": "UQNE2l9Pu56D"
      }
    },
    {
      "cell_type": "code",
      "source": [
        "def calcular_descuento():\n",
        "    precio_original = float(input(\"Ingrese el precio original: \"))\n",
        "    descuento_porcentaje = float(input(\"Ingrese el porcentaje de descuento: \"))\n",
        "\n",
        "    precio_final = precio_original * (1 - descuento_porcentaje / 100)\n",
        "    print(f\"Precio final después de {descuento_porcentaje}% de descuento: {precio_final:.2f}\")\n",
        "\n",
        "calcular_descuento()"
      ],
      "metadata": {
        "colab": {
          "base_uri": "https://localhost:8080/"
        },
        "id": "lr22AwNFvHzC",
        "outputId": "b6a80db4-acd5-436c-993e-868fabf3fda8"
      },
      "execution_count": null,
      "outputs": [
        {
          "output_type": "stream",
          "name": "stdout",
          "text": [
            "Ingrese el precio original: 200\n",
            "Ingrese el porcentaje de descuento: 50\n",
            "Precio final después de 50.0% de descuento: 100.00\n"
          ]
        }
      ]
    },
    {
      "cell_type": "markdown",
      "source": [
        "**Ejercicio 3**\n",
        "\n",
        "Crea un script que determine cuál de tres números introducidos por el usuario es el mayor, usando sentencias IF anidadas o múltiples ELIF."
      ],
      "metadata": {
        "id": "Lg_s5LKdvfVh"
      }
    },
    {
      "cell_type": "code",
      "source": [
        "def mayor_de_tres():\n",
        "    num1 = float(input(\"Ingrese el primer número: \"))\n",
        "    num2 = float(input(\"Ingrese el segundo número: \"))\n",
        "    num3 = float(input(\"Ingrese el tercer número: \"))\n",
        "\n",
        "    mayor = num1\n",
        "    if num2 > mayor:\n",
        "        mayor = num2\n",
        "    if num3 > mayor:\n",
        "        mayor = num3\n",
        "\n",
        "    print(f\"El mayor número es: {mayor}\")\n",
        "\n",
        "mayor_de_tres()"
      ],
      "metadata": {
        "colab": {
          "base_uri": "https://localhost:8080/"
        },
        "id": "mFW4eQTqwFfy",
        "outputId": "5fdfd61f-97d0-4a7e-ec99-0178c85f5ba8"
      },
      "execution_count": null,
      "outputs": [
        {
          "output_type": "stream",
          "name": "stdout",
          "text": [
            "Ingrese el primer número: 2\n",
            "Ingrese el segundo número: 4\n",
            "Ingrese el tercer número: 6\n",
            "El mayor número es: 6.0\n"
          ]
        }
      ]
    },
    {
      "cell_type": "markdown",
      "source": [
        "**Ejercicio 4**\n",
        "\n",
        "Programe una función que resuelva ecuaciones de segundo grado utilizando la fórmula general. El usuario debe ingresar los valores de a, b y c. Genere valores por default por si el usuario no ingresa un número entero o flotante. Además, calcule el valor del discriminante (b^2 - 4ac) y determine si tiene soluciones reales, soluciones complejas. Imprima el resultado."
      ],
      "metadata": {
        "id": "oUy9v3lIwF4C"
      }
    },
    {
      "cell_type": "code",
      "source": [
        "import cmath\n",
        "\n",
        "def resolver_ecuacion():\n",
        "    try:\n",
        "        a = float(input(\"Ingrese el coeficiente a: \"))\n",
        "        b = float(input(\"Ingrese el coeficiente b: \"))\n",
        "        c = float(input(\"Ingrese el coeficiente c: \"))\n",
        "    except:\n",
        "        a, b, c = 1.0, 0.0, -1.0  # Valores por defecto: x² - 1 = 0\n",
        "\n",
        "    discriminante = b**2 - 4*a*c\n",
        "\n",
        "    if discriminante > 0:\n",
        "        print(\"La ecuación tiene dos soluciones reales distintas\")\n",
        "        x1 = (-b + cmath.sqrt(discriminante)) / (2*a)\n",
        "        x2 = (-b - cmath.sqrt(discriminante)) / (2*a)\n",
        "    elif discriminante == 0:\n",
        "        print(\"La ecuación tiene una solución real repetida\")\n",
        "        x1 = x2 = -b / (2*a)\n",
        "    else:\n",
        "        print(\"La ecuación tiene soluciones complejas\")\n",
        "        x1 = (-b + cmath.sqrt(discriminante)) / (2*a)\n",
        "        x2 = (-b - cmath.sqrt(discriminante)) / (2*a)\n",
        "\n",
        "    print(f\"Soluciones: x1 = {x1}, x2 = {x2}\")\n",
        "\n",
        "resolver_ecuacion()"
      ],
      "metadata": {
        "colab": {
          "base_uri": "https://localhost:8080/"
        },
        "id": "WtcggyQjvvOU",
        "outputId": "9076076d-d966-4026-d3f6-9dbc18ac9302"
      },
      "execution_count": null,
      "outputs": [
        {
          "output_type": "stream",
          "name": "stdout",
          "text": [
            "Ingrese el coeficiente a: 3\n",
            "Ingrese el coeficiente b: 6\n",
            "Ingrese el coeficiente c: 9\n",
            "La ecuación tiene soluciones complejas\n",
            "Soluciones: x1 = (-1+1.414213562373095j), x2 = (-1-1.414213562373095j)\n"
          ]
        }
      ]
    },
    {
      "cell_type": "markdown",
      "source": [
        "**Ejercicio 5**\n",
        "\n",
        "Escriba una función que reciba una lista de números y devuelva dos listas: una con los números positivos y otra con los negativos."
      ],
      "metadata": {
        "id": "Rt3OsFPMv60w"
      }
    },
    {
      "cell_type": "code",
      "source": [
        "def separar_numeros(lista):\n",
        "    positivos = [x for x in lista if x > 0]\n",
        "    negativos = [x for x in lista if x < 0]\n",
        "    return positivos, negativos\n",
        "\n",
        "numeros = [5, -3, 2, -8, 0, 7, -1]\n",
        "pos, neg = separar_numeros(numeros)\n",
        "print(f\"Positivos: {pos}\")\n",
        "print(f\"Negativos: {neg}\")"
      ],
      "metadata": {
        "colab": {
          "base_uri": "https://localhost:8080/"
        },
        "id": "LMfPTwGbxhKv",
        "outputId": "848d14d2-e15d-4a55-e570-35000df71f24"
      },
      "execution_count": null,
      "outputs": [
        {
          "output_type": "stream",
          "name": "stdout",
          "text": [
            "Positivos: [5, 2, 7]\n",
            "Negativos: [-3, -8, -1]\n"
          ]
        }
      ]
    },
    {
      "cell_type": "markdown",
      "source": [
        "**Ejercicio 6**\n",
        "\n",
        "Escriba una función que reciba una lista de datos (la de abajo) y devuelva listas con los datos filtrados. Este programa debe separar los datos en int, str, bool, float. Hint: use la función append para insertar datos en las listas."
      ],
      "metadata": {
        "id": "0d2ucpR5wmKU"
      }
    },
    {
      "cell_type": "code",
      "source": [
        "def filtrar_tipos(lista_datos):\n",
        "    enteros = []\n",
        "    flotantes = []\n",
        "    cadenas = []\n",
        "    booleanos = []\n",
        "\n",
        "    for dato in lista_datos:\n",
        "        if isinstance(dato, int) and not isinstance(dato, bool):\n",
        "            enteros.append(dato)\n",
        "        elif isinstance(dato, float):\n",
        "            flotantes.append(dato)\n",
        "        elif isinstance(dato, str):\n",
        "            cadenas.append(dato)\n",
        "        elif isinstance(dato, bool):\n",
        "            booleanos.append(dato)\n",
        "\n",
        "    return enteros, flotantes, cadenas, booleanos\n",
        "\n",
        "datos = [1, 2.5, \"hola\", True, 3, False, \"mundo\", 4.7, 0]\n",
        "int_list, float_list, str_list, bool_list = filtrar_tipos(datos)\n",
        "print(f\"Enteros: {int_list}\")\n",
        "print(f\"Flotantes: {float_list}\")\n",
        "print(f\"Cadenas: {str_list}\")\n",
        "print(f\"Booleanos: {bool_list}\")"
      ],
      "metadata": {
        "colab": {
          "base_uri": "https://localhost:8080/"
        },
        "id": "0bPC3c5syFR9",
        "outputId": "a90fe116-3197-4adf-eec8-bb6cc8020154"
      },
      "execution_count": null,
      "outputs": [
        {
          "output_type": "stream",
          "name": "stdout",
          "text": [
            "Enteros: [1, 3, 0]\n",
            "Flotantes: [2.5, 4.7]\n",
            "Cadenas: ['hola', 'mundo']\n",
            "Booleanos: [True, False]\n"
          ]
        }
      ]
    },
    {
      "cell_type": "markdown",
      "source": [
        "**Ejercicio 7**\n",
        "\n",
        "Imprimir pirámide de asteriscos Descripción: Crea una función que imprima una pirámide de asteriscos usando bucles anidados, donde el número de niveles de la pirámide sea un valor dado."
      ],
      "metadata": {
        "id": "JBg1Ue7dw5lj"
      }
    },
    {
      "cell_type": "code",
      "source": [
        "def imprimir_piramide(niveles):\n",
        "    for i in range(1, niveles + 1):\n",
        "        espacios = \" \" * (niveles - i)\n",
        "        asteriscos = \"*\" * (2*i - 1)\n",
        "        print(espacios + asteriscos)\n",
        "\n",
        "niveles = int(input(\"Ingrese el número de niveles de la pirámide: \"))\n",
        "imprimir_piramide(niveles)"
      ],
      "metadata": {
        "colab": {
          "base_uri": "https://localhost:8080/"
        },
        "id": "g92el04eyk-j",
        "outputId": "8e1a85e4-aa53-469d-fc0d-f286c6dcc79a"
      },
      "execution_count": null,
      "outputs": [
        {
          "output_type": "stream",
          "name": "stdout",
          "text": [
            "Ingrese el número de niveles de la pirámide: 5\n",
            "    *\n",
            "   ***\n",
            "  *****\n",
            " *******\n",
            "*********\n"
          ]
        }
      ]
    },
    {
      "cell_type": "markdown",
      "source": [
        "**Ejercicio 8:**\n",
        "\n",
        "Utilizando listas, diccionarios y fuciones Lambda, programe un reloj mundial, en el que ingrese como entrada la hora de la Ciudad de México y muestre la hora en las siguientes ciudades:\n",
        "\n",
        "Tokio, Japón\n",
        "\n",
        "Pekín, China\n",
        "\n",
        "Dusambé, Tayikistán\n",
        "\n",
        "Perth, Australia\n",
        "\n",
        "Katmandú, Nepal\n",
        "\n",
        "Vilna, Lituania\n",
        "\n",
        "Freetown, Sierra Leona\n",
        "\n",
        "Rio de Janeiro, Brasil\n",
        "\n",
        "Tegucigalpa, Honduras\n",
        "\n",
        "Kinsgton, Jamaica\n",
        "\n",
        "Los Ángeles, EUA\n",
        "\n",
        "Documente los procesos esenciales del código. Mucho ojo. Al pasar las 24 horas (00:00 horas) se debe hacer la diferencia (o suma) para que no obtengan horas mayores a 24.\n",
        "\n"
      ],
      "metadata": {
        "id": "sWHmrBtMw7oS"
      }
    },
    {
      "cell_type": "code",
      "source": [
        "def reloj_mundial(hora_mexico):\n",
        "\n",
        "    diferencias = {\n",
        "        \"Tokio, Japón\": 15,\n",
        "        \"Pekín, China\": 14,\n",
        "        \"Dusambé, Tajikistán\": 11,\n",
        "        \"Perth, Australia\": 14,\n",
        "        \"Katmandú, Nepal\": 11.5,\n",
        "        \"Vilna, Lituania\": 8,\n",
        "        \"Freetown, Sierra Leona\": 6,\n",
        "        \"Río de Janeiro, Brasil\": 3,\n",
        "        \"Tegucigalpa, Honduras\": 0,\n",
        "        \"Kingston, Jamaica\": 1,\n",
        "        \"Los Ángeles, EUA\": -2\n",
        "    }\n",
        "\n",
        "    horas, minutos = map(int, hora_mexico.split(':'))\n",
        "\n",
        "    print(f\"Hora en Ciudad de México: {hora_mexico}\")\n",
        "    for ciudad, diferencia in diferencias.items():\n",
        "\n",
        "        nueva_hora = (horas + diferencia) % 24\n",
        "\n",
        "        if nueva_hora < 0:\n",
        "            nueva_hora += 24\n",
        "\n",
        "        hora_formateada = f\"{int(nueva_hora):02d}:{minutos:02d}\"\n",
        "        print(f\"{ciudad}: {hora_formateada}\")\n",
        "\n",
        "hora_mex = input(\"Ingrese la hora en Ciudad de México (HH:MM): \")\n",
        "reloj_mundial(hora_mex)"
      ],
      "metadata": {
        "colab": {
          "base_uri": "https://localhost:8080/"
        },
        "id": "jzlDD0oAza_S",
        "outputId": "e6c6e9f7-88d7-4a9d-ba5c-2fbc4a222a43"
      },
      "execution_count": 16,
      "outputs": [
        {
          "output_type": "stream",
          "name": "stdout",
          "text": [
            "Ingrese la hora en Ciudad de México (HH:MM): 10:00\n",
            "Hora en Ciudad de México: 10:00\n",
            "Tokio, Japón: 01:00\n",
            "Pekín, China: 00:00\n",
            "Dusambé, Tajikistán: 21:00\n",
            "Perth, Australia: 00:00\n",
            "Katmandú, Nepal: 21:00\n",
            "Vilna, Lituania: 18:00\n",
            "Freetown, Sierra Leona: 16:00\n",
            "Río de Janeiro, Brasil: 13:00\n",
            "Tegucigalpa, Honduras: 10:00\n",
            "Kingston, Jamaica: 11:00\n",
            "Los Ángeles, EUA: 08:00\n"
          ]
        }
      ]
    },
    {
      "cell_type": "markdown",
      "source": [
        "**Ejercicio 9**\n",
        "\n",
        "Programar una función que calcule la distancia entre dos puntos en el plano cartesiano, dadas sus coordenadas (x1, y1) y (x2, y2)"
      ],
      "metadata": {
        "id": "N-XRBvd8xDzs"
      }
    },
    {
      "cell_type": "code",
      "source": [
        "import math\n",
        "\n",
        "def distancia_puntos(x1, y1, x2, y2):\n",
        "    return math.sqrt((x2 - x1)**2 + (y2 - y1)**2)\n",
        "\n",
        "x1 = float(input(\"Ingrese x1: \"))\n",
        "y1 = float(input(\"Ingrese y1: \"))\n",
        "x2 = float(input(\"Ingrese x2: \"))\n",
        "y2 = float(input(\"Ingrese y2: \"))\n",
        "\n",
        "distancia = distancia_puntos(x1, y1, x2, y2)\n",
        "print(f\"La distancia entre los puntos es: {distancia:.2f}\")"
      ],
      "metadata": {
        "colab": {
          "base_uri": "https://localhost:8080/"
        },
        "id": "GZPK_OIH0WkD",
        "outputId": "65a546d9-c2b1-47fb-8594-8839bda5c4ee"
      },
      "execution_count": 17,
      "outputs": [
        {
          "output_type": "stream",
          "name": "stdout",
          "text": [
            "Ingrese x1: 4\n",
            "Ingrese y1: 2\n",
            "Ingrese x2: 6\n",
            "Ingrese y2: 3\n",
            "La distancia entre los puntos es: 2.24\n"
          ]
        }
      ]
    },
    {
      "cell_type": "markdown",
      "source": [
        "**Ejercicio 10**\n",
        "\n",
        "Programe un script que determine si dos rectas dadas por las ecuaciones y1=m1x + b1 y y2=m2x+b2 se intersectan, son paralelas o coincidentes. Utilice estructuras de control (IF - ELSE) para manejar los diferentes casos."
      ],
      "metadata": {
        "id": "l7EY9JgJxKo8"
      }
    },
    {
      "cell_type": "code",
      "source": [
        "def analizar_rectas(m1, b1, m2, b2):\n",
        "    if m1 == m2:\n",
        "        if b1 == b2:\n",
        "            print(\"Las rectas son coincidentes (la misma recta)\")\n",
        "        else:\n",
        "            print(\"Las rectas son paralelas\")\n",
        "    else:\n",
        "        x_interseccion = (b2 - b1) / (m1 - m2)\n",
        "        y_interseccion = m1 * x_interseccion + b1\n",
        "        print(f\"Las rectas se intersectan en el punto ({x_interseccion:.2f}, {y_interseccion:.2f})\")\n",
        "\n",
        "m1 = float(input(\"Ingrese la pendiente m1: \"))\n",
        "b1 = float(input(\"Ingrese el intercepto b1: \"))\n",
        "m2 = float(input(\"Ingrese la pendiente m2: \"))\n",
        "b2 = float(input(\"Ingrese el intercepto b2: \"))\n",
        "\n",
        "analizar_rectas(m1, b1, m2, b2)"
      ],
      "metadata": {
        "colab": {
          "base_uri": "https://localhost:8080/"
        },
        "id": "qn2o3G0G0wb4",
        "outputId": "399093dd-fc95-45fd-cbe9-40068f905d1f"
      },
      "execution_count": 18,
      "outputs": [
        {
          "output_type": "stream",
          "name": "stdout",
          "text": [
            "Ingrese la pendiente m1: 5\n",
            "Ingrese el intercepto b1: 9\n",
            "Ingrese la pendiente m2: 2\n",
            "Ingrese el intercepto b2: 8\n",
            "Las rectas se intersectan en el punto (-0.33, 7.33)\n"
          ]
        }
      ]
    },
    {
      "cell_type": "markdown",
      "source": [
        "**Ejercicio 11:**\n",
        "\n",
        "Iván y Miguel quieren jugar a los dados con las siguientes reglas:\n",
        "\n",
        "Si sale 1, vuelven a lanzar.\n",
        "Si sale 6, quedan empatados.\n",
        "Si sale 2 ó 3 gana Iván.\n",
        "Si sale 4 ó 5 gana Miguel.\n",
        "Haga un programa que le permita jugar a Iván y Miguel utilizando el condicional while. Se debe imprimir el mensaje de acuerdo a las reglas establecidas. Hint = Utilice la librería random para generar los números aleatorios."
      ],
      "metadata": {
        "id": "mwetTYr_xT6D"
      }
    },
    {
      "cell_type": "code",
      "source": [
        "import random\n",
        "\n",
        "def juego_dados():\n",
        "    while True:\n",
        "        dado = random.randint(1, 6)\n",
        "        print(f\"Resultado del dado: {dado}\")\n",
        "\n",
        "        if dado == 1:\n",
        "            print(\"Vuelven a lanzar...\")\n",
        "            continue\n",
        "        elif dado == 6:\n",
        "            print(\"¡Empate!\")\n",
        "            break\n",
        "        elif dado == 2 or dado == 3:\n",
        "            print(\"¡Iván gana!\")\n",
        "            break\n",
        "        elif dado == 4 or dado == 5:\n",
        "            print(\"¡Miguel gana!\")\n",
        "            break\n",
        "\n",
        "juego_dados()"
      ],
      "metadata": {
        "colab": {
          "base_uri": "https://localhost:8080/"
        },
        "id": "VrqcBKM10_7m",
        "outputId": "d540c685-644d-4d07-d6ad-5e884469a388"
      },
      "execution_count": 19,
      "outputs": [
        {
          "output_type": "stream",
          "name": "stdout",
          "text": [
            "Resultado del dado: 3\n",
            "¡Iván gana!\n"
          ]
        }
      ]
    },
    {
      "cell_type": "markdown",
      "source": [
        "**Ejercicio 12:**\n",
        "\n",
        "Genere una lista de 30 números aleatorios entre 1 y 10. Posteriormente, calcule:\n",
        "\n",
        "1.- La media\n",
        "\n",
        "2.- La mediana\n",
        "\n",
        "3.- La moda\n",
        "\n",
        "4.- La varianza\n",
        "\n",
        "5.- La desviación estándar\n",
        "\n",
        "Escriba las fórmulas asociadas a cada parámetro. Explique como se obtiene la moda. Consulte un texto de estadística para llevar a cabo los cálculos e imprima en pantalla la lista y los resultados."
      ],
      "metadata": {
        "id": "Q-jCIt12xZaC"
      }
    },
    {
      "cell_type": "code",
      "source": [
        "import random\n",
        "import statistics\n",
        "from collections import Counter\n",
        "\n",
        "def calcular_estadisticas():\n",
        "\n",
        "    numeros = [random.randint(1, 10) for _ in range(30)]\n",
        "    print(f\"Lista de números: {numeros}\")\n",
        "\n",
        "    media = sum(numeros) / len(numeros)\n",
        "    print(f\"\\nMedia: {media:.2f}\")\n",
        "\n",
        "    numeros_ordenados = sorted(numeros)\n",
        "    mediana = (numeros_ordenados[14] + numeros_ordenados[15]) / 2\n",
        "    print(f\"Mediana: {mediana:.2f}\")\n",
        "\n",
        "    conteo = Counter(numeros)\n",
        "    moda = conteo.most_common(1)[0][0]\n",
        "    print(f\"Moda: {moda} (aparece {conteo[moda]} veces)\")\n",
        "\n",
        "    varianza = statistics.variance(numeros)\n",
        "    print(f\"Varianza: {varianza:.2f}\")\n",
        "\n",
        "    desviacion = statistics.stdev(numeros)\n",
        "    print(f\"Desviación estándar: {desviacion:.2f}\")\n",
        "\n",
        "calcular_estadisticas()"
      ],
      "metadata": {
        "colab": {
          "base_uri": "https://localhost:8080/"
        },
        "id": "l7Lcm7Ex1PZF",
        "outputId": "48f66946-4c82-4437-9357-42f12af9033d"
      },
      "execution_count": 20,
      "outputs": [
        {
          "output_type": "stream",
          "name": "stdout",
          "text": [
            "Lista de números: [5, 8, 4, 3, 4, 5, 3, 1, 6, 1, 3, 2, 4, 5, 4, 9, 1, 9, 10, 8, 10, 2, 2, 4, 10, 8, 5, 5, 2, 5]\n",
            "\n",
            "Media: 4.93\n",
            "Mediana: 4.50\n",
            "Moda: 5 (aparece 6 veces)\n",
            "Varianza: 8.13\n",
            "Desviación estándar: 2.85\n"
          ]
        }
      ]
    }
  ]
}