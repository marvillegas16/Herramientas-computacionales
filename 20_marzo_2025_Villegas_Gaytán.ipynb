{
  "nbformat": 4,
  "nbformat_minor": 0,
  "metadata": {
    "colab": {
      "provenance": [],
      "authorship_tag": "ABX9TyOQ/ilzejHkRBIelspvjmHL",
      "include_colab_link": true
    },
    "kernelspec": {
      "name": "python3",
      "display_name": "Python 3"
    },
    "language_info": {
      "name": "python"
    }
  },
  "cells": [
    {
      "cell_type": "markdown",
      "metadata": {
        "id": "view-in-github",
        "colab_type": "text"
      },
      "source": [
        "<a href=\"https://colab.research.google.com/github/marvillegas16/Herramientas-computacionales/blob/main/20_marzo_2025_Villegas_Gayt%C3%A1n.ipynb\" target=\"_parent\"><img src=\"https://colab.research.google.com/assets/colab-badge.svg\" alt=\"Open In Colab\"/></a>"
      ]
    },
    {
      "cell_type": "code",
      "execution_count": 1,
      "metadata": {
        "colab": {
          "base_uri": "https://localhost:8080/"
        },
        "id": "oU_FRHQ48R68",
        "outputId": "2c92c02b-0535-4bce-b196-236336b9055b"
      },
      "outputs": [
        {
          "output_type": "stream",
          "name": "stdout",
          "text": [
            "['manzana', 'naranja', 'kiwi']\n"
          ]
        }
      ],
      "source": [
        "frutas = ['manzana', 'banana', 'naranja', 'kiwi']\n",
        "numeros = [1, 2, 3, 4, 5]\n",
        "mezclada = [1, 'dos', 3.0, True]\n",
        "\n",
        "frutas.remove('banana')\n",
        "print(frutas)"
      ]
    },
    {
      "cell_type": "code",
      "source": [
        "frutas=['manzana','banana','naranja','kiwi']"
      ],
      "metadata": {
        "id": "XnPeZ4dh9bH-"
      },
      "execution_count": null,
      "outputs": []
    },
    {
      "cell_type": "code",
      "source": [
        "len(frutas)"
      ],
      "metadata": {
        "colab": {
          "base_uri": "https://localhost:8080/"
        },
        "id": "LM8A5xtP-HWt",
        "outputId": "89a7a3fd-291b-4fd9-d641-54061115dd15"
      },
      "execution_count": 6,
      "outputs": [
        {
          "output_type": "execute_result",
          "data": {
            "text/plain": [
              "6"
            ]
          },
          "metadata": {},
          "execution_count": 6
        }
      ]
    },
    {
      "cell_type": "code",
      "source": [
        "frutas.append('uva')\n",
        "frutas"
      ],
      "metadata": {
        "colab": {
          "base_uri": "https://localhost:8080/"
        },
        "id": "X78r_0DN-MpO",
        "outputId": "9384c2b4-fbc6-4f87-983a-06df923d9828"
      },
      "execution_count": 5,
      "outputs": [
        {
          "output_type": "execute_result",
          "data": {
            "text/plain": [
              "['manzana', 'naranja', 'kiwi', 'uva', 'uva', 'uva']"
            ]
          },
          "metadata": {},
          "execution_count": 5
        }
      ]
    },
    {
      "cell_type": "code",
      "source": [
        "frutas=['manzana','banana']\n",
        "frutas1=['naranja','kiwi']\n",
        "frutas+frutas1"
      ],
      "metadata": {
        "colab": {
          "base_uri": "https://localhost:8080/"
        },
        "id": "KpFJHnnK-gaK",
        "outputId": "635c532d-2bf2-4120-ba8c-b66ffd34d6fd"
      },
      "execution_count": 7,
      "outputs": [
        {
          "output_type": "execute_result",
          "data": {
            "text/plain": [
              "['manzana', 'banana', 'naranja', 'kiwi']"
            ]
          },
          "metadata": {},
          "execution_count": 7
        }
      ]
    },
    {
      "cell_type": "code",
      "source": [
        "frutas=['manzana','banana','naranja','kiwi','uva']\n",
        "frutas.append('')\n",
        "frutas.append('')\n",
        "frutas"
      ],
      "metadata": {
        "colab": {
          "base_uri": "https://localhost:8080/"
        },
        "id": "JD_UB-Vc_ig3",
        "outputId": "ee2f2aec-5c65-4c96-f45b-34767400e10b"
      },
      "execution_count": 11,
      "outputs": [
        {
          "output_type": "execute_result",
          "data": {
            "text/plain": [
              "['manzana', 'banana', 'naranja', 'kiwi', 'uva', '', '']"
            ]
          },
          "metadata": {},
          "execution_count": 11
        }
      ]
    },
    {
      "cell_type": "code",
      "source": [
        "frutas[5:7]"
      ],
      "metadata": {
        "colab": {
          "base_uri": "https://localhost:8080/"
        },
        "id": "pvaQdPq5ADeY",
        "outputId": "1264dfc4-30fb-4145-e327-598565bfcb19"
      },
      "execution_count": 12,
      "outputs": [
        {
          "output_type": "execute_result",
          "data": {
            "text/plain": [
              "['', '']"
            ]
          },
          "metadata": {},
          "execution_count": 12
        }
      ]
    },
    {
      "cell_type": "code",
      "source": [
        "frutas[5:-1]"
      ],
      "metadata": {
        "colab": {
          "base_uri": "https://localhost:8080/"
        },
        "id": "ngJCi9i3AWTX",
        "outputId": "094dd001-fd13-4a47-925d-d4120a5a6557"
      },
      "execution_count": 13,
      "outputs": [
        {
          "output_type": "execute_result",
          "data": {
            "text/plain": [
              "['']"
            ]
          },
          "metadata": {},
          "execution_count": 13
        }
      ]
    },
    {
      "cell_type": "code",
      "source": [
        "frutas[5:-2]"
      ],
      "metadata": {
        "colab": {
          "base_uri": "https://localhost:8080/"
        },
        "id": "iUepvgt-AlJi",
        "outputId": "0047d03a-089f-44bc-fb58-b7d0836bd043"
      },
      "execution_count": 15,
      "outputs": [
        {
          "output_type": "execute_result",
          "data": {
            "text/plain": [
              "[]"
            ]
          },
          "metadata": {},
          "execution_count": 15
        }
      ]
    },
    {
      "cell_type": "code",
      "source": [
        "frutas=['manzana','banana','naranja','kiwi']\n",
        "for i in range(len(frutas)):\n",
        "  print(frutas[i])"
      ],
      "metadata": {
        "colab": {
          "base_uri": "https://localhost:8080/"
        },
        "id": "JijcfLBfBB4X",
        "outputId": "d04e9f9c-1762-4e02-9b8a-f72a9c0b5184"
      },
      "execution_count": 16,
      "outputs": [
        {
          "output_type": "stream",
          "name": "stdout",
          "text": [
            "manzana\n",
            "banana\n",
            "naranja\n",
            "kiwi\n"
          ]
        }
      ]
    },
    {
      "cell_type": "code",
      "source": [
        "frutas=['manzana','banana','naranja','kiwi']\n",
        "for i in frutas:\n",
        "  print(i)"
      ],
      "metadata": {
        "colab": {
          "base_uri": "https://localhost:8080/"
        },
        "id": "g-6Ydmd-B3AR",
        "outputId": "d0c2c859-8716-4a46-8745-259454a290d1"
      },
      "execution_count": 17,
      "outputs": [
        {
          "output_type": "stream",
          "name": "stdout",
          "text": [
            "manzana\n",
            "banana\n",
            "naranja\n",
            "kiwi\n"
          ]
        }
      ]
    },
    {
      "cell_type": "code",
      "source": [
        "numeros=5*[2.5]\n",
        "numeros"
      ],
      "metadata": {
        "colab": {
          "base_uri": "https://localhost:8080/"
        },
        "id": "OGma5YROCDpv",
        "outputId": "6035cec3-3412-463f-ab52-0298dcf10115"
      },
      "execution_count": 18,
      "outputs": [
        {
          "output_type": "execute_result",
          "data": {
            "text/plain": [
              "[2.5, 2.5, 2.5, 2.5, 2.5]"
            ]
          },
          "metadata": {},
          "execution_count": 18
        }
      ]
    },
    {
      "cell_type": "code",
      "source": [
        "numeros=[1.2,5,6,10.2,5.3,3,9,8,7,1.36]\n",
        "ent=(\"todos los numeros enteros\")\n",
        "ent+ent"
      ],
      "metadata": {
        "colab": {
          "base_uri": "https://localhost:8080/",
          "height": 36
        },
        "id": "d4MwL1OMCOfR",
        "outputId": "47eb1f4e-e75f-4634-e338-2a025c090faf"
      },
      "execution_count": 21,
      "outputs": [
        {
          "output_type": "execute_result",
          "data": {
            "text/plain": [
              "'todos los numeros enterostodos los numeros enteros'"
            ],
            "application/vnd.google.colaboratory.intrinsic+json": {
              "type": "string"
            }
          },
          "metadata": {},
          "execution_count": 21
        }
      ]
    }
  ]
}