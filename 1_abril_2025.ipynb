{
  "nbformat": 4,
  "nbformat_minor": 0,
  "metadata": {
    "colab": {
      "provenance": [],
      "authorship_tag": "ABX9TyNelcvy6nJTUyqu/3wGatEl",
      "include_colab_link": true
    },
    "kernelspec": {
      "name": "python3",
      "display_name": "Python 3"
    },
    "language_info": {
      "name": "python"
    }
  },
  "cells": [
    {
      "cell_type": "markdown",
      "metadata": {
        "id": "view-in-github",
        "colab_type": "text"
      },
      "source": [
        "<a href=\"https://colab.research.google.com/github/marvillegas16/Herramientas-computacionales/blob/main/1_abril_2025.ipynb\" target=\"_parent\"><img src=\"https://colab.research.google.com/assets/colab-badge.svg\" alt=\"Open In Colab\"/></a>"
      ]
    },
    {
      "cell_type": "markdown",
      "source": [],
      "metadata": {
        "id": "wFJeydABkyud"
      }
    },
    {
      "cell_type": "code",
      "source": [
        "lista=list(input(\"Dame dos numeros y una operacion\"))\n",
        "lista"
      ],
      "metadata": {
        "colab": {
          "base_uri": "https://localhost:8080/"
        },
        "id": "av_QPktYk2q8",
        "outputId": "ae9642ff-8389-4841-d62f-ab32476298f3"
      },
      "execution_count": null,
      "outputs": [
        {
          "name": "stdout",
          "output_type": "stream",
          "text": [
            "Dame dos numeros y una operacion 1 2 suma\n"
          ]
        },
        {
          "output_type": "execute_result",
          "data": {
            "text/plain": [
              "[' ', '1', ' ', '2', ' ', 's', 'u', 'm', 'a']"
            ]
          },
          "metadata": {},
          "execution_count": 2
        }
      ]
    },
    {
      "cell_type": "code",
      "source": [
        "lista=list(input(\"Dame dos numeros y una operacion\"))\n",
        "lista=[float(lista[0]),float(lista[2])]\n",
        "operacion=input(\"Dame una operacion\")\n",
        "\n",
        "def calculadora(lista,operacion):\n",
        "    if operacion==\"suma\":\n",
        "        suma=lambda a,b:a+b\n",
        "        res=suma(lista[0], lista[1])\n",
        "    elif operacion==\"resta\":\n",
        "        resta=lambda a,b:a-b\n",
        "        res=resta(lista[0],lista[1])\n",
        "    elif operacion==\"multiplicacion\":\n",
        "        mult=lambda a,b:a*b\n",
        "        res=mult(lista[0],lista[1])\n",
        "    elif operacion==\"division\":\n",
        "        div=lambda a,b:a/b\n",
        "        res=div(lista[0],lista[1])\n",
        "    return print(\"El valor de tu operacion es\"+str(res))\n",
        "\n",
        "calculadora(lista,operacion)"
      ],
      "metadata": {
        "colab": {
          "base_uri": "https://localhost:8080/"
        },
        "id": "GQm4mvEyqgCA",
        "outputId": "31405365-8469-49bf-fe36-4f46f32cdb0b"
      },
      "execution_count": null,
      "outputs": [
        {
          "output_type": "stream",
          "name": "stdout",
          "text": [
            "Dame dos numeros y una operacion1 2\n",
            "Dame una operacionsuma\n",
            "El valor de tu operacion es3.0\n"
          ]
        }
      ]
    },
    {
      "cell_type": "code",
      "source": [
        "import random\n",
        "mylist = [\"apple\", \"banana\", \"cherry\", \"apricot\"]\n",
        "\n",
        "print(random.choices(mylist, k=3))"
      ],
      "metadata": {
        "colab": {
          "base_uri": "https://localhost:8080/"
        },
        "id": "9VYXA-I4v8tW",
        "outputId": "e36da9bf-0a4a-400f-a37d-fdf1dfcaf56a"
      },
      "execution_count": null,
      "outputs": [
        {
          "output_type": "stream",
          "name": "stdout",
          "text": [
            "['apple', 'apricot', 'apricot']\n"
          ]
        }
      ]
    },
    {
      "cell_type": "code",
      "source": [],
      "metadata": {
        "id": "xbA8m-fryDai"
      },
      "execution_count": null,
      "outputs": []
    }
  ]
}