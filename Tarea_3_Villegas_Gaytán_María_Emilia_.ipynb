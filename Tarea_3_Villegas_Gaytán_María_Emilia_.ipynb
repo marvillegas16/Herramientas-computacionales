{
  "nbformat": 4,
  "nbformat_minor": 0,
  "metadata": {
    "colab": {
      "provenance": [],
      "authorship_tag": "ABX9TyPxUaxCQwENMmiOX6bfKWHe",
      "include_colab_link": true
    },
    "kernelspec": {
      "name": "python3",
      "display_name": "Python 3"
    },
    "language_info": {
      "name": "python"
    }
  },
  "cells": [
    {
      "cell_type": "markdown",
      "metadata": {
        "id": "view-in-github",
        "colab_type": "text"
      },
      "source": [
        "<a href=\"https://colab.research.google.com/github/marvillegas16/Herramientas-computacionales/blob/main/Tarea_3_Villegas_Gayt%C3%A1n_Mar%C3%ADa_Emilia_.ipynb\" target=\"_parent\"><img src=\"https://colab.research.google.com/assets/colab-badge.svg\" alt=\"Open In Colab\"/></a>"
      ]
    },
    {
      "cell_type": "markdown",
      "source": [
        "Ejercicio 1: Juego de Piedra, Papel o Tijera\n",
        "\n",
        "Descripción: Escribe un programa que permita al usuario jugar Piedra, Papel o Tijera contra la computadora. El juego debe continuar hasta que el usuario decida salir. Usa un ciclo while y estructuras de control."
      ],
      "metadata": {
        "id": "zqjLlb9HQjf1"
      }
    },
    {
      "cell_type": "code",
      "source": [
        "import random\n",
        "\n",
        "print(\" Juego: Piedra, Papel o Tijera\")\n",
        "opciones = [\"piedra\", \"papel\", \"tijera\"]\n",
        "\n",
        "while True:\n",
        "    jugador = input(\"Elige piedra, papel o tijera (o escribe 'salir'): \").lower()\n",
        "    if jugador == \"salir\":\n",
        "        print(\"¡Gracias por jugar!\")\n",
        "        break\n",
        "    if jugador not in opciones:\n",
        "        print(\"Opción no válida.\")\n",
        "        continue\n",
        "\n",
        "    computadora = random.choice(opciones)\n",
        "    print(f\"Computadora eligió: {computadora}\")\n",
        "\n",
        "    if jugador == computadora:\n",
        "        print(\"Empate.\")\n",
        "    elif (jugador == \"piedra\" and computadora == \"tijera\") or \\\n",
        "         (jugador == \"papel\" and computadora == \"piedra\") or \\\n",
        "         (jugador == \"tijera\" and computadora == \"papel\"):\n",
        "        print(\"¡Ganaste!\")\n",
        "    else:\n",
        "        print(\"Perdiste.\")"
      ],
      "metadata": {
        "colab": {
          "base_uri": "https://localhost:8080/"
        },
        "id": "ohhXJwnKQorG",
        "outputId": "c1c80666-d497-4588-f2bc-13daae4b3ca9"
      },
      "execution_count": null,
      "outputs": [
        {
          "output_type": "stream",
          "name": "stdout",
          "text": [
            " Juego: Piedra, Papel o Tijera\n",
            "Elige piedra, papel o tijera (o escribe 'salir'): Papel\n",
            "Computadora eligió: piedra\n",
            "¡Ganaste!\n"
          ]
        }
      ]
    },
    {
      "cell_type": "markdown",
      "source": [
        "Ejercicio 2: Factorial de un número positivo\n",
        "\n",
        "Descripción: Escribe un programa que calcule el factorial de un número natural que sea positivo. Para esto, debe validar que el número si sea natural, en caso contrario imprima un letrero que le indique al usuario que agregue un número natural en cinco intentos."
      ],
      "metadata": {
        "id": "D9uYEWZTQpII"
      }
    },
    {
      "cell_type": "code",
      "source": [
        "print(\" Cálculo de factorial\")\n",
        "intentos = 0\n",
        "max_intentos = 5\n",
        "\n",
        "while intentos < max_intentos:\n",
        "    try:\n",
        "        num = int(input(\"Ingresa un número natural positivo: \"))\n",
        "        if num >= 0:\n",
        "            factorial = 1\n",
        "            for i in range(1, num + 1):\n",
        "                factorial *= i\n",
        "            print(f\"El factorial de {num} es: {factorial}\")\n",
        "            break\n",
        "        else:\n",
        "            print(\" El número no es natural.\")\n",
        "    except ValueError:\n",
        "        print(\" Ingresa un número válido.\")\n",
        "\n",
        "    intentos += 1\n",
        "\n",
        "if intentos == max_intentos:\n",
        "    print(\" Se agotaron los 5 intentos.\")"
      ],
      "metadata": {
        "id": "-kQKzGuZQtdv"
      },
      "execution_count": null,
      "outputs": []
    },
    {
      "cell_type": "markdown",
      "source": [
        "Ejercicio 3: Números de Fibonacci\n",
        "\n",
        "Descripción: Escribe un programa que genere los primeros n números de la secuencia de Fibonacci, donde n es un número ingresado por el usuario. Usa un ciclo for."
      ],
      "metadata": {
        "id": "h70ovrQ4QuLj"
      }
    },
    {
      "cell_type": "code",
      "source": [
        "print(\" Serie de Fibonacci\")\n",
        "n = int(input(\"¿Cuántos números de Fibonacci deseas ver? \"))\n",
        "\n",
        "a, b = 0, 1\n",
        "print(\"Secuencia de Fibonacci:\")\n",
        "for _ in range(n):\n",
        "    print(a, end=\" \")\n",
        "    a, b = b, a + b\n",
        "print()"
      ],
      "metadata": {
        "id": "EUsPucn0QzQ-"
      },
      "execution_count": null,
      "outputs": []
    },
    {
      "cell_type": "markdown",
      "source": [
        "Ejercicio 4: Números primos\n",
        "\n",
        "Descripción: Escribe un programa que diga si un número es primo o no."
      ],
      "metadata": {
        "id": "P-oqBeD9Qzha"
      }
    },
    {
      "cell_type": "code",
      "source": [
        "print(\" Verificador de número primo\")\n",
        "num = int(input(\"Ingresa un número entero mayor que 1: \"))\n",
        "\n",
        "if num <= 1:\n",
        "    print(\"Debe ser mayor que 1.\")\n",
        "else:\n",
        "    es_primo = True\n",
        "    for i in range(2, int(num**0.5) + 1):\n",
        "        if num % i == 0:\n",
        "            es_primo = False\n",
        "            break\n",
        "    if es_primo:\n",
        "        print(f\"{num} es primo.\")\n",
        "    else:\n",
        "        print(f\"{num} no es primo.\")"
      ],
      "metadata": {
        "id": "oJuY6z1cQ51B"
      },
      "execution_count": null,
      "outputs": []
    },
    {
      "cell_type": "markdown",
      "source": [
        "Ejercicio5 : Clasificación de edades\n",
        "\n",
        "Descripción: Escribe un programa que clasifique a un grupo de personas según su edad. El programa debe pedir al usuario la edad de varias personas (hasta que ingrese \"fin\") y luego mostrar cuántas personas pertenecen a cada categoría:\n",
        "\n",
        "Niño: Menos de 13 años.\n",
        "\n",
        "Adolescente: Entre 13 y 17 años.\n",
        "\n",
        "Adulto: Entre 18 y 64 años.\n",
        "\n",
        "Adulto mayor: 65 años o más."
      ],
      "metadata": {
        "id": "iZFDrHsoQ7Dp"
      }
    },
    {
      "cell_type": "code",
      "source": [
        "print(\" Clasificación de edades\")\n",
        "niños = adolescentes = adultos = adultos_mayores = 0\n",
        "\n",
        "while True:\n",
        "    entrada = input(\"Ingresa una edad (o escribe 'fin' para terminar): \").lower()\n",
        "    if entrada == \"fin\":\n",
        "        break\n",
        "    try:\n",
        "        edad = int(entrada)\n",
        "        if edad < 13:\n",
        "            niños += 1\n",
        "        elif 13 <= edad <= 17:\n",
        "            adolescentes += 1\n",
        "        elif 18 <= edad <= 64:\n",
        "            adultos += 1\n",
        "        else:\n",
        "            adultos_mayores += 1\n",
        "    except ValueError:\n",
        "        print(\" Entrada inválida. Ingresa un número o 'fin'.\")\n",
        "\n",
        "print(\"\\n Clasificación final:\")\n",
        "print(f\"Niños: {niños}\")\n",
        "print(f\"Adolescentes: {adolescentes}\")\n",
        "print(f\"Adultos: {adultos}\")\n",
        "print(f\"Adultos mayores: {adultos_mayores}\")"
      ],
      "metadata": {
        "id": "GfPPdsxURAVv"
      },
      "execution_count": null,
      "outputs": []
    }
  ]
}