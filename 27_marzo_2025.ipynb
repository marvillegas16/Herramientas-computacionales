{
  "nbformat": 4,
  "nbformat_minor": 0,
  "metadata": {
    "colab": {
      "provenance": [],
      "authorship_tag": "ABX9TyOO5gsw1U1mBXElv+XEdt9b",
      "include_colab_link": true
    },
    "kernelspec": {
      "name": "python3",
      "display_name": "Python 3"
    },
    "language_info": {
      "name": "python"
    }
  },
  "cells": [
    {
      "cell_type": "markdown",
      "metadata": {
        "id": "view-in-github",
        "colab_type": "text"
      },
      "source": [
        "<a href=\"https://colab.research.google.com/github/marvillegas16/Herramientas-computacionales/blob/main/27_marzo_2025.ipynb\" target=\"_parent\"><img src=\"https://colab.research.google.com/assets/colab-badge.svg\" alt=\"Open In Colab\"/></a>"
      ]
    },
    {
      "cell_type": "code",
      "execution_count": null,
      "metadata": {
        "id": "LVKMBPFHzSTO"
      },
      "outputs": [],
      "source": [
        "import random\n",
        "\n",
        "A=\"Ivan\"\n",
        "4[0:2]"
      ]
    },
    {
      "cell_type": "code",
      "source": [
        "simbolos = ['#', '%', '@', '!', '2']\n",
        "\n",
        "palabra = \"Emilia\"\n",
        "\n",
        "palabra_encriptada = \"\"\n",
        "\n",
        "contador = 0\n",
        "\n",
        "for letra in palabra:\n",
        "    simbolo = simbolos[contador]\n",
        "    palabra_encriptada += simbolo + letra\n",
        "    contador += 1\n",
        "    if contador == len(simbolos):\n",
        "        contador = 0\n",
        "\n",
        "print(\"Original:\", palabra)\n",
        "print(\"Encriptada:\", palabra_encriptada)"
      ],
      "metadata": {
        "colab": {
          "base_uri": "https://localhost:8080/"
        },
        "id": "f2IrmmRx1_Gc",
        "outputId": "1971f5e6-41de-44d7-b148-dc50db598ac2"
      },
      "execution_count": null,
      "outputs": [
        {
          "output_type": "stream",
          "name": "stdout",
          "text": [
            "Original: Emilia\n",
            "Encriptada: #E%m@i!l2i#a\n"
          ]
        }
      ]
    },
    {
      "cell_type": "code",
      "source": [
        "import random\n",
        "word=input(\"Dame una palabra\")\n",
        "\n",
        "print(\"¡Tu palabra es\" + word + \"!\")\n",
        "\n",
        "chars=[\"#\",\"%\",\"@\",\"$\",\"!\",\"2\"]\n",
        "\n",
        "random.shuffle(chars)\n",
        "\n",
        "EncWord=\"\"\n",
        "for i in range(len(word)):\n",
        "  EncWord+=chars[i%len(chars)]+word[i]\n",
        "\n",
        "  print(\"Tu palabra encriptada es:\"+EncWord)"
      ],
      "metadata": {
        "colab": {
          "base_uri": "https://localhost:8080/"
        },
        "id": "n27Ezlsa25UI",
        "outputId": "ef130aa4-5229-4b76-c102-0bc6f600b640"
      },
      "execution_count": null,
      "outputs": [
        {
          "output_type": "stream",
          "name": "stdout",
          "text": [
            "Dame una palabraCien\n",
            "¡Tu palabra esCien!\n",
            "Tu palabra encriptada es:!C\n",
            "Tu palabra encriptada es:!C2i\n",
            "Tu palabra encriptada es:!C2i%e\n",
            "Tu palabra encriptada es:!C2i%e$n\n"
          ]
        }
      ]
    }
  ]
}